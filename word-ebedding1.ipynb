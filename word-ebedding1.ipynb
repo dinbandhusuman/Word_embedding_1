{
 "cells": [
  {
   "cell_type": "code",
   "execution_count": 1,
   "id": "46d159e7",
   "metadata": {
    "_cell_guid": "b1076dfc-b9ad-4769-8c92-a6c4dae69d19",
    "_uuid": "8f2839f25d086af736a60e9eeb907d3b93b6e0e5",
    "execution": {
     "iopub.execute_input": "2023-03-30T12:53:48.776627Z",
     "iopub.status.busy": "2023-03-30T12:53:48.775250Z",
     "iopub.status.idle": "2023-03-30T12:53:48.790734Z",
     "shell.execute_reply": "2023-03-30T12:53:48.789740Z"
    },
    "papermill": {
     "duration": 0.028234,
     "end_time": "2023-03-30T12:53:48.795092",
     "exception": false,
     "start_time": "2023-03-30T12:53:48.766858",
     "status": "completed"
    },
    "tags": []
   },
   "outputs": [],
   "source": [
    "# This Python 3 environment comes with many helpful analytics libraries installed\n",
    "# It is defined by the kaggle/python Docker image: https://github.com/kaggle/docker-python\n",
    "# For example, here's several helpful packages to load\n",
    "\n",
    "import numpy as np # linear algebra\n",
    "import pandas as pd # data processing, CSV file I/O (e.g. pd.read_csv)\n",
    "\n",
    "# Input data files are available in the read-only \"../input/\" directory\n",
    "# For example, running this (by clicking run or pressing Shift+Enter) will list all files under the input directory\n",
    "\n",
    "import os\n",
    "for dirname, _, filenames in os.walk('/kaggle/input'):\n",
    "    for filename in filenames:\n",
    "        print(os.path.join(dirname, filename))\n",
    "\n",
    "# You can write up to 20GB to the current directory (/kaggle/working/) that gets preserved as output when you create a version using \"Save & Run All\" \n",
    "# You can also write temporary files to /kaggle/temp/, but they won't be saved outside of the current session"
   ]
  },
  {
   "cell_type": "markdown",
   "id": "83bdbedd",
   "metadata": {
    "papermill": {
     "duration": 0.005064,
     "end_time": "2023-03-30T12:53:48.805399",
     "exception": false,
     "start_time": "2023-03-30T12:53:48.800335",
     "status": "completed"
    },
    "tags": []
   },
   "source": [
    "Loading some iport libraries"
   ]
  },
  {
   "cell_type": "code",
   "execution_count": 2,
   "id": "cfebeb1b",
   "metadata": {
    "execution": {
     "iopub.execute_input": "2023-03-30T12:53:48.815304Z",
     "iopub.status.busy": "2023-03-30T12:53:48.814586Z",
     "iopub.status.idle": "2023-03-30T12:53:58.037522Z",
     "shell.execute_reply": "2023-03-30T12:53:58.036132Z"
    },
    "papermill": {
     "duration": 9.231485,
     "end_time": "2023-03-30T12:53:58.040600",
     "exception": false,
     "start_time": "2023-03-30T12:53:48.809115",
     "status": "completed"
    },
    "tags": []
   },
   "outputs": [],
   "source": [
    "from numpy import array\n",
    "from tensorflow.keras.preprocessing.text import one_hot\n",
    "from tensorflow.keras.preprocessing.sequence import pad_sequences\n",
    "from tensorflow.keras.layers import Embedding\n",
    "from tensorflow.keras.models import Sequential"
   ]
  },
  {
   "cell_type": "code",
   "execution_count": 3,
   "id": "093bc157",
   "metadata": {
    "execution": {
     "iopub.execute_input": "2023-03-30T12:53:58.050974Z",
     "iopub.status.busy": "2023-03-30T12:53:58.049473Z",
     "iopub.status.idle": "2023-03-30T12:53:58.056249Z",
     "shell.execute_reply": "2023-03-30T12:53:58.054799Z"
    },
    "papermill": {
     "duration": 0.014676,
     "end_time": "2023-03-30T12:53:58.059026",
     "exception": false,
     "start_time": "2023-03-30T12:53:58.044350",
     "status": "completed"
    },
    "tags": []
   },
   "outputs": [],
   "source": [
    "sent=['the glass of milk',\n",
    "        'the glass of juice',\n",
    "        'the cup of tea',\n",
    "        'i am a good boy',\n",
    "        'i am good developer',\n",
    "        'understanding the meaning of good word',\n",
    "        'videos are good']"
   ]
  },
  {
   "cell_type": "code",
   "execution_count": 4,
   "id": "728ef2f3",
   "metadata": {
    "execution": {
     "iopub.execute_input": "2023-03-30T12:53:58.068106Z",
     "iopub.status.busy": "2023-03-30T12:53:58.067645Z",
     "iopub.status.idle": "2023-03-30T12:53:58.076592Z",
     "shell.execute_reply": "2023-03-30T12:53:58.075218Z"
    },
    "papermill": {
     "duration": 0.016886,
     "end_time": "2023-03-30T12:53:58.079550",
     "exception": false,
     "start_time": "2023-03-30T12:53:58.062664",
     "status": "completed"
    },
    "tags": []
   },
   "outputs": [
    {
     "data": {
      "text/plain": [
       "['the glass of milk',\n",
       " 'the glass of juice',\n",
       " 'the cup of tea',\n",
       " 'i am a good boy',\n",
       " 'i am good developer',\n",
       " 'understanding the meaning of good word',\n",
       " 'videos are good']"
      ]
     },
     "execution_count": 4,
     "metadata": {},
     "output_type": "execute_result"
    }
   ],
   "source": [
    "sent"
   ]
  },
  {
   "cell_type": "code",
   "execution_count": 5,
   "id": "d03dc9cd",
   "metadata": {
    "execution": {
     "iopub.execute_input": "2023-03-30T12:53:58.089201Z",
     "iopub.status.busy": "2023-03-30T12:53:58.088814Z",
     "iopub.status.idle": "2023-03-30T12:53:58.098486Z",
     "shell.execute_reply": "2023-03-30T12:53:58.097064Z"
    },
    "papermill": {
     "duration": 0.017438,
     "end_time": "2023-03-30T12:53:58.101072",
     "exception": false,
     "start_time": "2023-03-30T12:53:58.083634",
     "status": "completed"
    },
    "tags": []
   },
   "outputs": [
    {
     "data": {
      "text/plain": [
       "[[4946, 1819, 3464, 4155],\n",
       " [4946, 1819, 3464, 2270],\n",
       " [4946, 4282, 3464, 2888],\n",
       " [2390, 266, 1886, 4544, 2636],\n",
       " [2390, 266, 4544, 3951],\n",
       " [4607, 4946, 565, 3464, 4544, 1143],\n",
       " [4025, 3221, 4544]]"
      ]
     },
     "execution_count": 5,
     "metadata": {},
     "output_type": "execute_result"
    }
   ],
   "source": [
    "#first of all we have to define the vocablary size\n",
    "vocab_size = 5000\n",
    "#then convert the given sentence into one_hot representation-\n",
    "word_one_hot = [one_hot(word,vocab_size) for word in sent]\n",
    "word_one_hot"
   ]
  },
  {
   "cell_type": "code",
   "execution_count": 6,
   "id": "c1e07e43",
   "metadata": {
    "execution": {
     "iopub.execute_input": "2023-03-30T12:53:58.110782Z",
     "iopub.status.busy": "2023-03-30T12:53:58.110365Z",
     "iopub.status.idle": "2023-03-30T12:53:58.120981Z",
     "shell.execute_reply": "2023-03-30T12:53:58.119808Z"
    },
    "papermill": {
     "duration": 0.018314,
     "end_time": "2023-03-30T12:53:58.123440",
     "exception": false,
     "start_time": "2023-03-30T12:53:58.105126",
     "status": "completed"
    },
    "tags": []
   },
   "outputs": [
    {
     "data": {
      "text/plain": [
       "array([[   0,    0,    0,    0, 4946, 1819, 3464, 4155],\n",
       "       [   0,    0,    0,    0, 4946, 1819, 3464, 2270],\n",
       "       [   0,    0,    0,    0, 4946, 4282, 3464, 2888],\n",
       "       [   0,    0,    0, 2390,  266, 1886, 4544, 2636],\n",
       "       [   0,    0,    0,    0, 2390,  266, 4544, 3951],\n",
       "       [   0,    0, 4607, 4946,  565, 3464, 4544, 1143],\n",
       "       [   0,    0,    0,    0,    0, 4025, 3221, 4544]], dtype=int32)"
      ]
     },
     "execution_count": 6,
     "metadata": {},
     "output_type": "execute_result"
    }
   ],
   "source": [
    "# define padding of the sentences---\n",
    "sent_size = 8\n",
    "pad_sentence = pad_sequences(word_one_hot,padding='pre',maxlen=sent_size)\n",
    "pad_sentence"
   ]
  },
  {
   "cell_type": "code",
   "execution_count": 7,
   "id": "8e966b31",
   "metadata": {
    "execution": {
     "iopub.execute_input": "2023-03-30T12:53:58.133558Z",
     "iopub.status.busy": "2023-03-30T12:53:58.133145Z",
     "iopub.status.idle": "2023-03-30T12:53:58.313545Z",
     "shell.execute_reply": "2023-03-30T12:53:58.312412Z"
    },
    "papermill": {
     "duration": 0.188726,
     "end_time": "2023-03-30T12:53:58.316246",
     "exception": false,
     "start_time": "2023-03-30T12:53:58.127520",
     "status": "completed"
    },
    "tags": []
   },
   "outputs": [],
   "source": [
    "# define the word embedding--\n",
    "model = Sequential()\n",
    "model.add(Embedding(vocab_size,10,input_length=sent_size))\n",
    "model.compile('adam','mse')"
   ]
  },
  {
   "cell_type": "code",
   "execution_count": 8,
   "id": "7cb3e9ab",
   "metadata": {
    "execution": {
     "iopub.execute_input": "2023-03-30T12:53:58.326172Z",
     "iopub.status.busy": "2023-03-30T12:53:58.325801Z",
     "iopub.status.idle": "2023-03-30T12:53:58.345240Z",
     "shell.execute_reply": "2023-03-30T12:53:58.343859Z"
    },
    "papermill": {
     "duration": 0.027359,
     "end_time": "2023-03-30T12:53:58.347728",
     "exception": false,
     "start_time": "2023-03-30T12:53:58.320369",
     "status": "completed"
    },
    "tags": []
   },
   "outputs": [
    {
     "name": "stdout",
     "output_type": "stream",
     "text": [
      "Model: \"sequential\"\n",
      "_________________________________________________________________\n",
      " Layer (type)                Output Shape              Param #   \n",
      "=================================================================\n",
      " embedding (Embedding)       (None, 8, 10)             50000     \n",
      "                                                                 \n",
      "=================================================================\n",
      "Total params: 50,000\n",
      "Trainable params: 50,000\n",
      "Non-trainable params: 0\n",
      "_________________________________________________________________\n"
     ]
    }
   ],
   "source": [
    "model.summary()"
   ]
  },
  {
   "cell_type": "code",
   "execution_count": 9,
   "id": "3b0d3368",
   "metadata": {
    "execution": {
     "iopub.execute_input": "2023-03-30T12:53:58.359598Z",
     "iopub.status.busy": "2023-03-30T12:53:58.358419Z",
     "iopub.status.idle": "2023-03-30T12:53:58.652892Z",
     "shell.execute_reply": "2023-03-30T12:53:58.650721Z"
    },
    "papermill": {
     "duration": 0.302971,
     "end_time": "2023-03-30T12:53:58.655394",
     "exception": false,
     "start_time": "2023-03-30T12:53:58.352423",
     "status": "completed"
    },
    "tags": []
   },
   "outputs": [
    {
     "name": "stdout",
     "output_type": "stream",
     "text": [
      "1/1 [==============================] - 0s 204ms/step\n",
      "[[ 0.02426006  0.02532354 -0.00676333 -0.04525855 -0.03820072 -0.02067488\n",
      "  -0.00669895  0.02853862  0.04882303 -0.00718568]\n",
      " [ 0.02426006  0.02532354 -0.00676333 -0.04525855 -0.03820072 -0.02067488\n",
      "  -0.00669895  0.02853862  0.04882303 -0.00718568]\n",
      " [ 0.02426006  0.02532354 -0.00676333 -0.04525855 -0.03820072 -0.02067488\n",
      "  -0.00669895  0.02853862  0.04882303 -0.00718568]\n",
      " [ 0.02426006  0.02532354 -0.00676333 -0.04525855 -0.03820072 -0.02067488\n",
      "  -0.00669895  0.02853862  0.04882303 -0.00718568]\n",
      " [ 0.03390051  0.03673198 -0.01125706  0.02902918 -0.02533636  0.00150432\n",
      "   0.04378351 -0.03418245 -0.04524858 -0.03303039]\n",
      " [-0.04042215  0.00770665  0.01919493 -0.04639279  0.04945076  0.00793519\n",
      "  -0.03916072  0.0466955  -0.04237448  0.04534933]\n",
      " [ 0.04142595  0.01742586 -0.00853371 -0.03183446  0.00522175  0.01036935\n",
      "  -0.00824476 -0.01065876 -0.03578738 -0.0379919 ]\n",
      " [ 0.00402617  0.01050936 -0.02101772 -0.04674934  0.03435332  0.00533942\n",
      "   0.01502189  0.00206639 -0.02334577  0.03481985]]\n"
     ]
    }
   ],
   "source": [
    "print(model.predict(pad_sentence)[0])"
   ]
  },
  {
   "cell_type": "code",
   "execution_count": null,
   "id": "85a68cc8",
   "metadata": {
    "execution": {
     "iopub.execute_input": "2023-03-30T12:52:59.700793Z",
     "iopub.status.busy": "2023-03-30T12:52:59.699506Z",
     "iopub.status.idle": "2023-03-30T12:53:00.045922Z",
     "shell.execute_reply": "2023-03-30T12:53:00.044283Z",
     "shell.execute_reply.started": "2023-03-30T12:52:59.700730Z"
    },
    "papermill": {
     "duration": 0.004778,
     "end_time": "2023-03-30T12:53:58.665541",
     "exception": false,
     "start_time": "2023-03-30T12:53:58.660763",
     "status": "completed"
    },
    "tags": []
   },
   "outputs": [],
   "source": []
  },
  {
   "cell_type": "code",
   "execution_count": null,
   "id": "82ab5ba2",
   "metadata": {
    "papermill": {
     "duration": 0.004518,
     "end_time": "2023-03-30T12:53:58.674960",
     "exception": false,
     "start_time": "2023-03-30T12:53:58.670442",
     "status": "completed"
    },
    "tags": []
   },
   "outputs": [],
   "source": []
  }
 ],
 "metadata": {
  "kernelspec": {
   "display_name": "Python 3",
   "language": "python",
   "name": "python3"
  },
  "language_info": {
   "codemirror_mode": {
    "name": "ipython",
    "version": 3
   },
   "file_extension": ".py",
   "mimetype": "text/x-python",
   "name": "python",
   "nbconvert_exporter": "python",
   "pygments_lexer": "ipython3",
   "version": "3.7.12"
  },
  "papermill": {
   "default_parameters": {},
   "duration": 23.766375,
   "end_time": "2023-03-30T12:54:01.922061",
   "environment_variables": {},
   "exception": null,
   "input_path": "__notebook__.ipynb",
   "output_path": "__notebook__.ipynb",
   "parameters": {},
   "start_time": "2023-03-30T12:53:38.155686",
   "version": "2.4.0"
  }
 },
 "nbformat": 4,
 "nbformat_minor": 5
}
