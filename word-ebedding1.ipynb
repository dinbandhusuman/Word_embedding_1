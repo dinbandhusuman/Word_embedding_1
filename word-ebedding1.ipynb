{
 "cells": [
  {
   "cell_type": "code",
   "execution_count": 1,
   "id": "57b9f933",
   "metadata": {
    "_cell_guid": "b1076dfc-b9ad-4769-8c92-a6c4dae69d19",
    "_uuid": "8f2839f25d086af736a60e9eeb907d3b93b6e0e5",
    "execution": {
     "iopub.execute_input": "2023-03-30T12:40:35.689093Z",
     "iopub.status.busy": "2023-03-30T12:40:35.688523Z",
     "iopub.status.idle": "2023-03-30T12:40:35.703589Z",
     "shell.execute_reply": "2023-03-30T12:40:35.702075Z"
    },
    "papermill": {
     "duration": 0.024907,
     "end_time": "2023-03-30T12:40:35.706624",
     "exception": false,
     "start_time": "2023-03-30T12:40:35.681717",
     "status": "completed"
    },
    "tags": []
   },
   "outputs": [],
   "source": [
    "# This Python 3 environment comes with many helpful analytics libraries installed\n",
    "# It is defined by the kaggle/python Docker image: https://github.com/kaggle/docker-python\n",
    "# For example, here's several helpful packages to load\n",
    "\n",
    "import numpy as np # linear algebra\n",
    "import pandas as pd # data processing, CSV file I/O (e.g. pd.read_csv)\n",
    "\n",
    "# Input data files are available in the read-only \"../input/\" directory\n",
    "# For example, running this (by clicking run or pressing Shift+Enter) will list all files under the input directory\n",
    "\n",
    "import os\n",
    "for dirname, _, filenames in os.walk('/kaggle/input'):\n",
    "    for filename in filenames:\n",
    "        print(os.path.join(dirname, filename))\n",
    "\n",
    "# You can write up to 20GB to the current directory (/kaggle/working/) that gets preserved as output when you create a version using \"Save & Run All\" \n",
    "# You can also write temporary files to /kaggle/temp/, but they won't be saved outside of the current session"
   ]
  },
  {
   "cell_type": "markdown",
   "id": "a277dcee",
   "metadata": {
    "papermill": {
     "duration": 0.003283,
     "end_time": "2023-03-30T12:40:35.713820",
     "exception": false,
     "start_time": "2023-03-30T12:40:35.710537",
     "status": "completed"
    },
    "tags": []
   },
   "source": [
    "Loading some iport libraries"
   ]
  },
  {
   "cell_type": "code",
   "execution_count": 2,
   "id": "cb0fda81",
   "metadata": {
    "execution": {
     "iopub.execute_input": "2023-03-30T12:40:35.722418Z",
     "iopub.status.busy": "2023-03-30T12:40:35.722024Z",
     "iopub.status.idle": "2023-03-30T12:40:45.731454Z",
     "shell.execute_reply": "2023-03-30T12:40:45.730264Z"
    },
    "papermill": {
     "duration": 10.017264,
     "end_time": "2023-03-30T12:40:45.734500",
     "exception": false,
     "start_time": "2023-03-30T12:40:35.717236",
     "status": "completed"
    },
    "tags": []
   },
   "outputs": [],
   "source": [
    "from numpy import array\n",
    "from tensorflow.keras.preprocessing.text import one_hot\n",
    "from tensorflow.keras.preprocessing.sequence import pad_sequences\n",
    "from tensorflow.keras.layers import Embedding\n",
    "from tensorflow.keras.models import Sequential"
   ]
  },
  {
   "cell_type": "code",
   "execution_count": 3,
   "id": "71b0fd82",
   "metadata": {
    "execution": {
     "iopub.execute_input": "2023-03-30T12:40:45.745128Z",
     "iopub.status.busy": "2023-03-30T12:40:45.744005Z",
     "iopub.status.idle": "2023-03-30T12:40:45.749778Z",
     "shell.execute_reply": "2023-03-30T12:40:45.748251Z"
    },
    "papermill": {
     "duration": 0.014536,
     "end_time": "2023-03-30T12:40:45.752949",
     "exception": false,
     "start_time": "2023-03-30T12:40:45.738413",
     "status": "completed"
    },
    "tags": []
   },
   "outputs": [],
   "source": [
    "sent=['the glass of milk',\n",
    "        'the glass of juice',\n",
    "        'the cup of tea',\n",
    "        'i am a good boy',\n",
    "        'i am good developer',\n",
    "        'understanding the meaning of good word',\n",
    "        'videos are good']"
   ]
  },
  {
   "cell_type": "code",
   "execution_count": 4,
   "id": "fadb437c",
   "metadata": {
    "execution": {
     "iopub.execute_input": "2023-03-30T12:40:45.762321Z",
     "iopub.status.busy": "2023-03-30T12:40:45.761777Z",
     "iopub.status.idle": "2023-03-30T12:40:45.770542Z",
     "shell.execute_reply": "2023-03-30T12:40:45.769175Z"
    },
    "papermill": {
     "duration": 0.016673,
     "end_time": "2023-03-30T12:40:45.773214",
     "exception": false,
     "start_time": "2023-03-30T12:40:45.756541",
     "status": "completed"
    },
    "tags": []
   },
   "outputs": [
    {
     "data": {
      "text/plain": [
       "['the glass of milk',\n",
       " 'the glass of juice',\n",
       " 'the cup of tea',\n",
       " 'i am a good boy',\n",
       " 'i am good developer',\n",
       " 'understanding the meaning of good word',\n",
       " 'videos are good']"
      ]
     },
     "execution_count": 4,
     "metadata": {},
     "output_type": "execute_result"
    }
   ],
   "source": [
    "sent"
   ]
  },
  {
   "cell_type": "code",
   "execution_count": 5,
   "id": "9e09044a",
   "metadata": {
    "execution": {
     "iopub.execute_input": "2023-03-30T12:40:45.783441Z",
     "iopub.status.busy": "2023-03-30T12:40:45.782982Z",
     "iopub.status.idle": "2023-03-30T12:40:45.793138Z",
     "shell.execute_reply": "2023-03-30T12:40:45.791818Z"
    },
    "papermill": {
     "duration": 0.018613,
     "end_time": "2023-03-30T12:40:45.795988",
     "exception": false,
     "start_time": "2023-03-30T12:40:45.777375",
     "status": "completed"
    },
    "tags": []
   },
   "outputs": [
    {
     "data": {
      "text/plain": [
       "[[4492, 3042, 4604, 3512],\n",
       " [4492, 3042, 4604, 650],\n",
       " [4492, 3774, 4604, 3299],\n",
       " [3421, 904, 1671, 1587, 622],\n",
       " [3421, 904, 1587, 1474],\n",
       " [3027, 4492, 3488, 4604, 1587, 4120],\n",
       " [620, 3484, 1587]]"
      ]
     },
     "execution_count": 5,
     "metadata": {},
     "output_type": "execute_result"
    }
   ],
   "source": [
    "#first of all we have to define the vocablary size\n",
    "vocab_size = 5000\n",
    "#then convert the given sentence into one_hot representation-\n",
    "word_one_hot = [one_hot(word,vocab_size) for word in sent]\n",
    "word_one_hot"
   ]
  },
  {
   "cell_type": "code",
   "execution_count": 6,
   "id": "c8b5a3ab",
   "metadata": {
    "execution": {
     "iopub.execute_input": "2023-03-30T12:40:45.805938Z",
     "iopub.status.busy": "2023-03-30T12:40:45.805482Z",
     "iopub.status.idle": "2023-03-30T12:40:45.816056Z",
     "shell.execute_reply": "2023-03-30T12:40:45.814567Z"
    },
    "papermill": {
     "duration": 0.018688,
     "end_time": "2023-03-30T12:40:45.818701",
     "exception": false,
     "start_time": "2023-03-30T12:40:45.800013",
     "status": "completed"
    },
    "tags": []
   },
   "outputs": [
    {
     "data": {
      "text/plain": [
       "array([[   0,    0,    0,    0, 4492, 3042, 4604, 3512],\n",
       "       [   0,    0,    0,    0, 4492, 3042, 4604,  650],\n",
       "       [   0,    0,    0,    0, 4492, 3774, 4604, 3299],\n",
       "       [   0,    0,    0, 3421,  904, 1671, 1587,  622],\n",
       "       [   0,    0,    0,    0, 3421,  904, 1587, 1474],\n",
       "       [   0,    0, 3027, 4492, 3488, 4604, 1587, 4120],\n",
       "       [   0,    0,    0,    0,    0,  620, 3484, 1587]], dtype=int32)"
      ]
     },
     "execution_count": 6,
     "metadata": {},
     "output_type": "execute_result"
    }
   ],
   "source": [
    "# define padding of the sentences---\n",
    "sent_size = 8\n",
    "pad_sentence = pad_sequences(word_one_hot,padding='pre',maxlen=sent_size)\n",
    "pad_sentence"
   ]
  },
  {
   "cell_type": "code",
   "execution_count": 7,
   "id": "eb31c3fc",
   "metadata": {
    "execution": {
     "iopub.execute_input": "2023-03-30T12:40:45.828984Z",
     "iopub.status.busy": "2023-03-30T12:40:45.828460Z",
     "iopub.status.idle": "2023-03-30T12:40:46.034981Z",
     "shell.execute_reply": "2023-03-30T12:40:46.033119Z"
    },
    "papermill": {
     "duration": 0.217239,
     "end_time": "2023-03-30T12:40:46.040160",
     "exception": false,
     "start_time": "2023-03-30T12:40:45.822921",
     "status": "completed"
    },
    "tags": []
   },
   "outputs": [],
   "source": [
    "# define the word embedding--\n",
    "model = Sequential()\n",
    "model.add(Embedding(vocab_size,10,input_length=sent_size))\n",
    "model.compile('adam','mse')"
   ]
  },
  {
   "cell_type": "code",
   "execution_count": 8,
   "id": "4f004b03",
   "metadata": {
    "execution": {
     "iopub.execute_input": "2023-03-30T12:40:46.058990Z",
     "iopub.status.busy": "2023-03-30T12:40:46.056770Z",
     "iopub.status.idle": "2023-03-30T12:40:46.082884Z",
     "shell.execute_reply": "2023-03-30T12:40:46.081660Z"
    },
    "papermill": {
     "duration": 0.043232,
     "end_time": "2023-03-30T12:40:46.090498",
     "exception": false,
     "start_time": "2023-03-30T12:40:46.047266",
     "status": "completed"
    },
    "tags": []
   },
   "outputs": [
    {
     "name": "stdout",
     "output_type": "stream",
     "text": [
      "Model: \"sequential\"\n",
      "_________________________________________________________________\n",
      " Layer (type)                Output Shape              Param #   \n",
      "=================================================================\n",
      " embedding (Embedding)       (None, 8, 10)             50000     \n",
      "                                                                 \n",
      "=================================================================\n",
      "Total params: 50,000\n",
      "Trainable params: 50,000\n",
      "Non-trainable params: 0\n",
      "_________________________________________________________________\n"
     ]
    }
   ],
   "source": [
    "model.summary()"
   ]
  },
  {
   "cell_type": "code",
   "execution_count": 9,
   "id": "ace40e88",
   "metadata": {
    "execution": {
     "iopub.execute_input": "2023-03-30T12:40:46.105967Z",
     "iopub.status.busy": "2023-03-30T12:40:46.105456Z",
     "iopub.status.idle": "2023-03-30T12:40:46.442269Z",
     "shell.execute_reply": "2023-03-30T12:40:46.440654Z"
    },
    "papermill": {
     "duration": 0.348654,
     "end_time": "2023-03-30T12:40:46.445305",
     "exception": false,
     "start_time": "2023-03-30T12:40:46.096651",
     "status": "completed"
    },
    "tags": []
   },
   "outputs": [
    {
     "name": "stdout",
     "output_type": "stream",
     "text": [
      "1/1 [==============================] - 0s 232ms/step\n",
      "[[ 0.02586244  0.04843925  0.04376909 -0.00643633 -0.02808653 -0.00337464\n",
      "  -0.01199192 -0.02017399  0.00105417 -0.03621703]\n",
      " [ 0.02586244  0.04843925  0.04376909 -0.00643633 -0.02808653 -0.00337464\n",
      "  -0.01199192 -0.02017399  0.00105417 -0.03621703]\n",
      " [ 0.02586244  0.04843925  0.04376909 -0.00643633 -0.02808653 -0.00337464\n",
      "  -0.01199192 -0.02017399  0.00105417 -0.03621703]\n",
      " [ 0.02586244  0.04843925  0.04376909 -0.00643633 -0.02808653 -0.00337464\n",
      "  -0.01199192 -0.02017399  0.00105417 -0.03621703]\n",
      " [-0.01596832 -0.00613735  0.03652992 -0.02602556 -0.03236032 -0.00023556\n",
      "   0.0497616   0.04846425 -0.03371701 -0.04479854]\n",
      " [-0.02635437 -0.04450691  0.00468199 -0.03859951  0.01476883 -0.01478077\n",
      "  -0.03814372 -0.00814606 -0.01880214  0.04202699]\n",
      " [ 0.00526649 -0.01834489  0.01665707 -0.03656282  0.03593879  0.04072607\n",
      "   0.0315382  -0.04156102  0.03218343  0.02226182]\n",
      " [ 0.03524567  0.02176895 -0.02831124  0.03521318  0.026387   -0.01284385\n",
      "  -0.01093148  0.01566137  0.01362273  0.01285144]]\n"
     ]
    }
   ],
   "source": [
    "print(model.predict(pad_sentence)[0])"
   ]
  },
  {
   "cell_type": "code",
   "execution_count": null,
   "id": "1818a839",
   "metadata": {
    "papermill": {
     "duration": 0.00481,
     "end_time": "2023-03-30T12:40:46.455129",
     "exception": false,
     "start_time": "2023-03-30T12:40:46.450319",
     "status": "completed"
    },
    "tags": []
   },
   "outputs": [],
   "source": []
  }
 ],
 "metadata": {
  "kernelspec": {
   "display_name": "Python 3",
   "language": "python",
   "name": "python3"
  },
  "language_info": {
   "codemirror_mode": {
    "name": "ipython",
    "version": 3
   },
   "file_extension": ".py",
   "mimetype": "text/x-python",
   "name": "python",
   "nbconvert_exporter": "python",
   "pygments_lexer": "ipython3",
   "version": "3.7.12"
  },
  "papermill": {
   "default_parameters": {},
   "duration": 24.735572,
   "end_time": "2023-03-30T12:40:49.924041",
   "environment_variables": {},
   "exception": null,
   "input_path": "__notebook__.ipynb",
   "output_path": "__notebook__.ipynb",
   "parameters": {},
   "start_time": "2023-03-30T12:40:25.188469",
   "version": "2.4.0"
  }
 },
 "nbformat": 4,
 "nbformat_minor": 5
}
